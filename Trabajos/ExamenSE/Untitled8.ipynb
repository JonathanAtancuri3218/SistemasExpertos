{
 "cells": [
  {
   "cell_type": "code",
   "execution_count": 1,
   "metadata": {},
   "outputs": [],
   "source": [
    "from clips import Environment, Symbol\n",
    "environment = Environment()\n",
    "environment.load('plantas.clp')"
   ]
  },
  {
   "cell_type": "code",
   "execution_count": 2,
   "metadata": {},
   "outputs": [
    {
     "data": {
      "text/plain": [
       "1"
      ]
     },
     "execution_count": 2,
     "metadata": {},
     "output_type": "execute_result"
    }
   ],
   "source": [
    "environment.reset()\n",
    "environment.run()"
   ]
  },
  {
   "cell_type": "code",
   "execution_count": 6,
   "metadata": {},
   "outputs": [
    {
     "name": "stdout",
     "output_type": "stream",
     "text": [
      "(defrule MAIN::tipo-problemas_plantas1\n",
      "   (initial-fact)\n",
      "   =>\n",
      "   (printout t \"La planta crece poco si/no?\" crlf)\n",
      "   (assert (tipo-problema (read))))\n",
      "\n",
      "(defrule MAIN::preguntas\n",
      "   (or  (tipo-problema no)\n",
      "        (tipo-problema si))\n",
      "   =>\n",
      "   (printout t \"La planta tiene color amarillo palido (si/no)?\" crlf)\n",
      "   (assert (problemas-planta (read))))\n",
      "\n",
      "(defrule MAIN::preguntas1\n",
      "   (or  (tipo-problema no)\n",
      "        (tipo-problema si))\n",
      "   =>\n",
      "   (printout t \"Las hojas tiene color pardo rojiso(si/no)?\" crlf)\n",
      "   (assert (problemas-planta2 (read))))\n",
      "\n",
      "(defrule MAIN::preguntas2\n",
      "   (or  (tipo-problema no)\n",
      "        (tipo-problema si))\n",
      "   =>\n",
      "   (printout t \"La raiz de la planta tiene poco crecimiento (si/no)?\" crlf)\n",
      "   (assert (problemas-planta3 (read))))\n",
      "\n",
      "(defrule MAIN::preguntas3\n",
      "   (or  (tipo-problema no)\n",
      "        (tipo-problema si))\n",
      "   =>\n",
      "   (printout t \"Una planta tiene tallo fusiforme  (si/no)?\" crlf)\n",
      "   (assert (problemas-planta4 (read))))\n",
      "\n",
      "(defrule MAIN::preguntas4\n",
      "   (or  (tipo-problema no)\n",
      "        (tipo-problema si))\n",
      "   =>\n",
      "   (printout t \"Una planta tiene color purpura  (si/no)?\" crlf)\n",
      "   (assert (problemas-planta5 (read))))\n",
      "\n",
      "(defrule MAIN::preguntas5\n",
      "   (or  (tipo-problema no)\n",
      "        (tipo-problema si))\n",
      "   =>\n",
      "   (printout t \"La planta tiene un retraso en la madurez  (si/no)?\" crlf)\n",
      "   (assert (problemas-planta6 (read))))\n",
      "\n",
      "(defrule MAIN::preguntas6\n",
      "   (or  (tipo-problema no)\n",
      "        (tipo-problema si))\n",
      "   =>\n",
      "   (printout t \"Los bordes de las hojas aparecen chamuscados (si/no)?\" crlf)\n",
      "   (assert (problemas-planta7 (read))))\n",
      "\n",
      "(defrule MAIN::preguntas7\n",
      "   (or  (tipo-problema no)\n",
      "        (tipo-problema si))\n",
      "   =>\n",
      "   (printout t \"La planta tiene tallos debilitados (si/no)?\" crlf)\n",
      "   (assert (problemas-planta8 (read))))\n",
      "\n",
      "(defrule MAIN::preguntas8\n",
      "   (or  (tipo-problema no)\n",
      "        (tipo-problema si))\n",
      "   =>\n",
      "   (printout t \"La planta tiene semillas o frutas marchitas (si/no)?\" crlf)\n",
      "   (assert (problemas-planta9 (read))))\n",
      "\n",
      "(defrule MAIN::resultado1\n",
      "   (or  (tipo-problema si)\n",
      "        (problemas-planta si)\n",
      "        (problemas-planta2 si))\n",
      "   =>\n",
      "   (assert (deficiencia-nitrogeno))\n",
      "   (printout t \"Tiene deficiencia nitrogeno\" crlf))\n",
      "\n",
      "(defrule MAIN::resultado2\n",
      "   (or  (problemas-planta3 si)\n",
      "        (problemas-planta4 si)\n",
      "        (problemas-planta5 si)\n",
      "        (problemas-planta6 si))\n",
      "   =>\n",
      "   (assert (deficiencia-fosforo))\n",
      "   (printout t \"Tiene deficiencia fosforo\" crlf))\n",
      "\n",
      "(defrule MAIN::resultado3\n",
      "   (or  (problemas-planta7 si)\n",
      "        (problemas-planta8 si)\n",
      "        (problemas-planta9 si))\n",
      "   =>\n",
      "   (assert (deficiencia-potasio))\n",
      "   (printout t \"Tiene deficiencia potasio\" crlf))\n",
      "\n"
     ]
    }
   ],
   "source": [
    "for rule in environment.rules():\n",
    "    print(rule)"
   ]
  },
  {
   "cell_type": "code",
   "execution_count": 7,
   "metadata": {},
   "outputs": [
    {
     "name": "stdout",
     "output_type": "stream",
     "text": [
      "(initial-fact)\n",
      "(tipo-problema EOF)\n"
     ]
    }
   ],
   "source": [
    "for fact in environment.facts():\n",
    "    print(fact)"
   ]
  },
  {
   "cell_type": "code",
   "execution_count": 9,
   "metadata": {},
   "outputs": [
    {
     "name": "stdout",
     "output_type": "stream",
     "text": [
      "La planta crece poco si/no? \n",
      "si\n",
      "La planta tiene color amarillo palido (si/no)? \n",
      "no\n",
      "Las hojas tiene color pardo rojiso(si/no)? \n",
      "no\n",
      "La raiz de la planta tiene poco crecimiento (si/no)? \n",
      "si\n",
      "Una planta tiene tallo fusiforme (si/no)? \n",
      "no\n",
      "Una planta tiene color purpura (si/no)? \n",
      "no\n",
      "La planta tiene un retraso en la madurez (si/no)? \n",
      "no\n",
      "Los bordes de las hojas aparecen chamuscados (si/no)? \n",
      "si\n",
      "La planta tiene tallos debilitados (si/no)? \n",
      "no\n",
      "La planta tiene semillas o frutas marchitas (si/no)? \n",
      "no\n",
      "Resultado: Tiene deficiencia potasio\n",
      "Resultado: Tiene deficiencia fosforo\n",
      "Resultado: Tiene deficiencia nitrogeno\n"
     ]
    }
   ],
   "source": [
    "pregunta1 = input(\"La planta crece poco si/no? \\n\")\n",
    "pregunta2 = input(\"La planta tiene color amarillo palido (si/no)? \\n\")\n",
    "pregunta3 = input(\"Las hojas tiene color pardo rojiso(si/no)? \\n\")\n",
    "pregunta4 = input(\"La raiz de la planta tiene poco crecimiento (si/no)? \\n\")\n",
    "pregunta5 = input(\"Una planta tiene tallo fusiforme (si/no)? \\n\")\n",
    "pregunta6 = input(\"Una planta tiene color purpura (si/no)? \\n\")\n",
    "pregunta7 = input(\"La planta tiene un retraso en la madurez (si/no)? \\n\")\n",
    "pregunta8 = input(\"Los bordes de las hojas aparecen chamuscados (si/no)? \\n\")\n",
    "pregunta9 = input(\"La planta tiene tallos debilitados (si/no)? \\n\")\n",
    "pregunta10 = input(\"La planta tiene semillas o frutas marchitas (si/no)? \\n\")\n",
    "fact_string_pre1 = '(tipo-problema ' + pregunta1 + ')'\n",
    "fact_string_respuesta1 = environment.assert_string(fact_string_pre1)\n",
    "fact_string_pre2 = '(problemas-planta ' + pregunta2 + ')'\n",
    "fact_string_respuesta2 = environment.assert_string(fact_string_pre2)\n",
    "fact_string_pre3 = '(problemas-planta2 ' + pregunta3 + ')'\n",
    "fact_string_respuesta3 = environment.assert_string(fact_string_pre3)\n",
    "fact_string_pre4 = '(problemas-planta3 ' + pregunta4 + ')'\n",
    "fact_string_respuesta4= environment.assert_string(fact_string_pre4)\n",
    "fact_string_pre5 = '(problemas-planta4 ' + pregunta5 + ')'\n",
    "fact_string_respuesta5 = environment.assert_string(fact_string_pre5)\n",
    "fact_string_pre6 = '(problemas-planta5 ' + pregunta6 + ')'\n",
    "fact_string_respuesta6 = environment.assert_string(fact_string_pre6)\n",
    "fact_string_pre7 = '(problemas-planta6 ' + pregunta7 + ')'\n",
    "fact_string_respuesta7 = environment.assert_string(fact_string_pre7)\n",
    "fact_string_pre8 = '(problemas-planta7 ' + pregunta8 + ')'\n",
    "fact_string_respuesta8 = environment.assert_string(fact_string_pre8)\n",
    "fact_string_pre9 = '(problemas-planta8 ' + pregunta9 + ')'\n",
    "fact_string_respuesta9 = environment.assert_string(fact_string_pre9)\n",
    "fact_string_pre10 = '(problemas-planta9 ' + pregunta10 + ')'\n",
    "fact_string_respuesta10 = environment.assert_string(fact_string_pre10)\n",
    "environment.run()\n",
    "for fact in environment.facts():\n",
    "    if fact.template.name == 'deficiencia-nitrogeno':\n",
    "        print('Resultado: '+'Tiene deficiencia nitrogeno')\n",
    "    elif fact.template.name == 'deficiencia-fosforo':\n",
    "        print('Resultado: '+'Tiene deficiencia fosforo')\n",
    "    elif fact.template.name == 'deficiencia-potasio':\n",
    "        print('Resultado: '+'Tiene deficiencia potasio')"
   ]
  },
  {
   "cell_type": "code",
   "execution_count": null,
   "metadata": {},
   "outputs": [],
   "source": []
  }
 ],
 "metadata": {
  "kernelspec": {
   "display_name": "Python 3",
   "language": "python",
   "name": "python3"
  },
  "language_info": {
   "codemirror_mode": {
    "name": "ipython",
    "version": 3
   },
   "file_extension": ".py",
   "mimetype": "text/x-python",
   "name": "python",
   "nbconvert_exporter": "python",
   "pygments_lexer": "ipython3",
   "version": "3.8.3"
  }
 },
 "nbformat": 4,
 "nbformat_minor": 4
}
